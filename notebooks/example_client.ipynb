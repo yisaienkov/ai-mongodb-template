{
 "cells": [
  {
   "cell_type": "code",
   "execution_count": 1,
   "id": "8cdbd377",
   "metadata": {},
   "outputs": [],
   "source": [
    "import pymongo\n",
    "# from bson.objectid import ObjectId"
   ]
  },
  {
   "cell_type": "code",
   "execution_count": 2,
   "id": "85643489",
   "metadata": {},
   "outputs": [],
   "source": [
    "HOST = \"localhost\"\n",
    "PORT = 27017"
   ]
  },
  {
   "cell_type": "code",
   "execution_count": 3,
   "id": "6751ed83",
   "metadata": {},
   "outputs": [
    {
     "name": "stdout",
     "output_type": "stream",
     "text": [
      "['admin', 'config', 'local']\n"
     ]
    }
   ],
   "source": [
    "with pymongo.MongoClient(host=HOST, port=PORT) as client:\n",
    "    print(client.list_database_names())"
   ]
  },
  {
   "cell_type": "code",
   "execution_count": null,
   "id": "dd40e3b2",
   "metadata": {},
   "outputs": [],
   "source": []
  },
  {
   "cell_type": "code",
   "execution_count": 6,
   "id": "e1e6dd1f",
   "metadata": {},
   "outputs": [],
   "source": [
    "TEMPLATE_FOOD = [\n",
    "    {\n",
    "        \"foodName\": \"Chicken Burrito\",\n",
    "        \"foodType\": \"Burrito\",\n",
    "        \"protein\": \"chicken\",\n",
    "        \"calories\": 975\n",
    "    },\n",
    "    {\n",
    "        \"foodName\": \"Steak Burrito\",\n",
    "        \"foodType\": \"Burrito\",\n",
    "        \"protein\": \"steak\",\n",
    "        \"calories\": 945\n",
    "    },\n",
    "    {\n",
    "        \"foodName\": \"Carnitas Burrito\",\n",
    "        \"foodType\": \"Burrito\",\n",
    "        \"protein\": \"carnitas\",\n",
    "        \"calories\": 1005\n",
    "    },\n",
    "    {\n",
    "        \"foodName\": \"Barbacoa Burrito\",\n",
    "        \"foodType\": \"Burrito\",\n",
    "        \"protein\": \"barbacoa\",\n",
    "        \"calories\": 965\n",
    "    },\n",
    "    {\n",
    "        \"foodName\": \"Chorizo Burrito\",\n",
    "        \"foodType\": \"Burrito\",\n",
    "        \"protein\": \"chorizo\",\n",
    "        \"calories\": 1095\n",
    "    },\n",
    "    {\n",
    "        \"foodName\": \"Sofritas Burrito\",\n",
    "        \"foodType\": \"Burrito\",\n",
    "        \"protein\": \"sofritas\",\n",
    "        \"calories\": 945\n",
    "    },\n",
    "    {\n",
    "        \"foodName\": \"Chicken Burrito Bowl\",\n",
    "        \"foodType\": \"Burrito Bowl\",\n",
    "        \"calories\": 630\n",
    "    },\n",
    "    {\n",
    "        \"foodName\": \"Chicken Bowl\",\n",
    "        \"calories\": 630\n",
    "    },\n",
    "    {\n",
    "        \"foodName\": \"Steak Burrito Bowl\",\n",
    "        \"foodType\": \"Burrito Bowl\",\n",
    "        \"calories\": 600\n",
    "    },\n",
    "    {\n",
    "        \"foodName\": \"Steak Bowl\",\n",
    "        \"calories\": 600\n",
    "    },\n",
    "    {\n",
    "        \"foodName\": \"Carnitas Burrito Bowl\",\n",
    "        \"foodType\": \"Burrito Bowl\",\n",
    "        \"calories\": 660\n",
    "    },\n",
    "    {\n",
    "        \"foodName\": \"Carnitas Bowl\",\n",
    "        \"calories\": 660\n",
    "    },\n",
    "    {\n",
    "        \"foodName\": \"Barbacoa Burrito Bowl\",\n",
    "        \"foodType\": \"Burrito Bowl\",\n",
    "        \"calories\": 620\n",
    "    },\n",
    "    {\n",
    "        \"foodName\": \"Barbacoa Bowl\",\n",
    "        \"calories\": 620\n",
    "    },\n",
    "    {\n",
    "        \"foodName\": \"Chorizo Burrito Bowl\",\n",
    "        \"foodType\": \"Burrito Bowl\",\n",
    "        \"calories\": 750\n",
    "    },\n",
    "    {\n",
    "        \"foodName\": \"Chorizo Bowl\",\n",
    "        \"calories\": 750\n",
    "    },\n",
    "    {\n",
    "        \"foodName\": \"Sofritas Burrito Bowl\",\n",
    "        \"foodType\": \"Burrito Bowl\",\n",
    "        \"calories\": 600\n",
    "    },\n",
    "    {\n",
    "        \"foodName\": \"Sofritas Bowl\",\n",
    "        \"calories\": 600\n",
    "    },\n",
    "    {\n",
    "        \"foodName\": \"Chicken Corn Tortilla Taco\",\n",
    "        \"foodType\": \"Taco\",\n",
    "        \"protein\": \"chicken\",\n",
    "        \"calories\": 650\n",
    "    },\n",
    "    {\n",
    "        \"foodName\": \"Chicken Flour Tortilla Taco\",\n",
    "        \"foodType\": \"Taco\",\n",
    "        \"protein\": \"chicken\",\n",
    "        \"calories\": 700\n",
    "    },\n",
    "    {\n",
    "        \"foodName\": \"Steak Corn Tortilla Taco\",\n",
    "        \"foodType\": \"Taco\",\n",
    "        \"protein\": \"steak\",\n",
    "        \"calories\": 620\n",
    "    },\n",
    "    {\n",
    "        \"foodName\": \"Steak Flour Tortilla Taco\",\n",
    "        \"foodType\": \"Taco\",\n",
    "        \"protein\": \"steak\",\n",
    "        \"calories\": 670\n",
    "    },\n",
    "    {\n",
    "        \"foodName\": \"Carnitas Corn Tortilla Taco\",\n",
    "        \"foodType\": \"Taco\",\n",
    "        \"protein\": \"carnitas\",\n",
    "        \"calories\": 680\n",
    "    },\n",
    "    {\n",
    "        \"foodName\": \"Carnitas Flour Tortilla Taco\",\n",
    "        \"foodType\": \"Taco\",\n",
    "        \"protein\": \"carnitas\",\n",
    "        \"calories\": 730\n",
    "    },\n",
    "    {\n",
    "        \"foodName\": \"Barbacoa Corn Tortilla Taco\",\n",
    "        \"foodType\": \"Taco\",\n",
    "        \"protein\": \"barbacoa\",\n",
    "        \"calories\": 640\n",
    "    },\n",
    "    {\n",
    "        \"foodName\": \"Barbacoa Flour Tortilla Taco\",\n",
    "        \"foodType\": \"Taco\",\n",
    "        \"protein\": \"barbacoa\",\n",
    "        \"calories\": 690\n",
    "    },\n",
    "    {\n",
    "        \"foodName\": \"Chorizo Corn Tortilla Taco\",\n",
    "        \"foodType\": \"Taco\",\n",
    "        \"protein\": \"chorizo\",\n",
    "        \"calories\": 770\n",
    "    },\n",
    "    {\n",
    "        \"foodName\": \"Chorizo Flour Tortilla Taco\",\n",
    "        \"foodType\": \"Taco\",\n",
    "        \"protein\": \"chorizo\",\n",
    "        \"calories\": 820\n",
    "    },\n",
    "    {\n",
    "        \"foodName\": \"Sofritas Corn Tortilla Taco\",\n",
    "        \"foodType\": \"Taco\",\n",
    "        \"protein\": \"sofritas\",\n",
    "        \"calories\": 620\n",
    "    },\n",
    "    {\n",
    "        \"foodName\": \"Sofritas Flour Tortilla Taco\",\n",
    "        \"foodType\": \"Taco\",\n",
    "        \"protein\": \"sofritas\",\n",
    "        \"calories\": 670\n",
    "    },\n",
    "    {\n",
    "        \"foodName\": \"Chicken Quesadilla\",\n",
    "        \"calories\": 610,\n",
    "        \"foodType\": \"Quesadilla\"\n",
    "    },\n",
    "    {\n",
    "        \"foodName\": \"Steak Quesadilla\",\n",
    "        \"calories\": 550,\n",
    "        \"foodType\": \"Quesadilla\"\n",
    "    },\n",
    "    {\n",
    "        \"foodName\": \"Carnitas Quesadilla\",\n",
    "        \"calories\": 640,\n",
    "        \"foodType\": \"Quesadilla\"\n",
    "    },\n",
    "    {\n",
    "        \"foodName\": \"Cheese Quesadilla\",\n",
    "        \"calories\": 430,\n",
    "        \"foodType\": \"Quesadilla\"\n",
    "    },\n",
    "    {\n",
    "        \"foodName\": \"Kids Chicken Taco\",\n",
    "        \"calories\": 205\n",
    "    },\n",
    "    {\n",
    "        \"foodName\": \"Kids Steak Taco\",\n",
    "        \"calories\": 200\n",
    "    }\n",
    "]"
   ]
  },
  {
   "cell_type": "code",
   "execution_count": 7,
   "id": "140d26fd",
   "metadata": {},
   "outputs": [],
   "source": [
    "# \"food\": {\n",
    "#     \"foodName\": \"Kids Steak Taco\",\n",
    "#     \"calories\": 200\n",
    "# }\n",
    "\n",
    "# \"customer\": {\n",
    "#     \"name\" : \"\",\n",
    "#     \"surname\": \"\",\n",
    "# }\n",
    "    \n",
    "# \"order\": {\n",
    "#     \"id_food\": \"\",\n",
    "#     \"id_customer\": \"\",\n",
    "#     \"price\": 123,\n",
    "# }"
   ]
  },
  {
   "cell_type": "code",
   "execution_count": 8,
   "id": "7d88a412",
   "metadata": {},
   "outputs": [],
   "source": [
    "with pymongo.MongoClient(host=HOST, port=PORT) as client:\n",
    "    db = client[\"mydb\"]\n",
    "    collection = db[\"food\"]\n",
    "    \n",
    "    collection.insert_many(TEMPLATE_FOOD)"
   ]
  },
  {
   "cell_type": "code",
   "execution_count": 9,
   "id": "188e65ca",
   "metadata": {},
   "outputs": [
    {
     "data": {
      "text/plain": [
       "36"
      ]
     },
     "execution_count": 9,
     "metadata": {},
     "output_type": "execute_result"
    }
   ],
   "source": [
    "with pymongo.MongoClient(host=HOST, port=PORT) as client:\n",
    "    db = client[\"mydb\"]\n",
    "    collection = db[\"food\"]\n",
    "    \n",
    "    data = list(collection.find())\n",
    "    \n",
    "len(data)"
   ]
  },
  {
   "cell_type": "code",
   "execution_count": 12,
   "id": "c0114404",
   "metadata": {},
   "outputs": [
    {
     "data": {
      "text/plain": [
       "[{'_id': ObjectId('620a738e9562d666792564ba'),\n",
       "  'foodName': 'Kids Steak Taco',\n",
       "  'calories': 200}]"
      ]
     },
     "execution_count": 12,
     "metadata": {},
     "output_type": "execute_result"
    }
   ],
   "source": [
    "with pymongo.MongoClient(host=HOST, port=PORT) as client:\n",
    "    db = client[\"mydb\"]\n",
    "    collection = db[\"food\"]\n",
    "    \n",
    "    data = list(\n",
    "        collection.find(\n",
    "            {\n",
    "                \"calories\": {\n",
    "                    \"$lt\": 205\n",
    "                }\n",
    "            }\n",
    "        )\n",
    "    )\n",
    "    \n",
    "data"
   ]
  },
  {
   "cell_type": "code",
   "execution_count": 22,
   "id": "8169cf88",
   "metadata": {
    "scrolled": true
   },
   "outputs": [
    {
     "data": {
      "text/plain": [
       "[{'_id': ObjectId('620a738e9562d66679256497'),\n",
       "  'foodName': 'Chicken Burrito',\n",
       "  'foodType': 'Burrito',\n",
       "  'protein': 'chicken',\n",
       "  'calories': 975},\n",
       " {'_id': ObjectId('620a738e9562d66679256498'),\n",
       "  'foodName': 'Steak Burrito',\n",
       "  'foodType': 'Burrito',\n",
       "  'protein': 'steak',\n",
       "  'calories': 945},\n",
       " {'_id': ObjectId('620a738e9562d66679256499'),\n",
       "  'foodName': 'Carnitas Burrito',\n",
       "  'foodType': 'Burrito',\n",
       "  'protein': 'carnitas',\n",
       "  'calories': 1005},\n",
       " {'_id': ObjectId('620a738e9562d6667925649a'),\n",
       "  'foodName': 'Barbacoa Burrito',\n",
       "  'foodType': 'Burrito',\n",
       "  'protein': 'barbacoa',\n",
       "  'calories': 965},\n",
       " {'_id': ObjectId('620a738e9562d6667925649b'),\n",
       "  'foodName': 'Chorizo Burrito',\n",
       "  'foodType': 'Burrito',\n",
       "  'protein': 'chorizo',\n",
       "  'calories': 1095},\n",
       " {'_id': ObjectId('620a738e9562d6667925649c'),\n",
       "  'foodName': 'Sofritas Burrito',\n",
       "  'foodType': 'Burrito',\n",
       "  'protein': 'sofritas',\n",
       "  'calories': 945}]"
      ]
     },
     "execution_count": 22,
     "metadata": {},
     "output_type": "execute_result"
    }
   ],
   "source": [
    "with pymongo.MongoClient(host=HOST, port=PORT) as client:\n",
    "    db = client[\"mydb\"]\n",
    "    collection = db[\"food\"]\n",
    "    data = list(\n",
    "        collection.find(\n",
    "            {\n",
    "                \"$or\": [\n",
    "                    {\n",
    "                        \"foodType\": \"Burrito\",\n",
    "                    },\n",
    "                ]\n",
    "            }\n",
    "        )\n",
    "    )\n",
    "    \n",
    "data"
   ]
  },
  {
   "cell_type": "code",
   "execution_count": 26,
   "id": "90c85560",
   "metadata": {},
   "outputs": [
    {
     "data": {
      "text/plain": [
       "[{'foodName': 'Chicken Burrito', 'calories': 975},\n",
       " {'foodName': 'Steak Burrito', 'calories': 945},\n",
       " {'foodName': 'Carnitas Burrito', 'calories': 1005},\n",
       " {'foodName': 'Barbacoa Burrito', 'calories': 965},\n",
       " {'foodName': 'Chorizo Burrito', 'calories': 1095},\n",
       " {'foodName': 'Sofritas Burrito', 'calories': 945},\n",
       " {'foodName': 'Chicken Burrito Bowl', 'calories': 630},\n",
       " {'foodName': 'Chicken Bowl', 'calories': 630},\n",
       " {'foodName': 'Steak Burrito Bowl', 'calories': 600},\n",
       " {'foodName': 'Steak Bowl', 'calories': 600},\n",
       " {'foodName': 'Carnitas Burrito Bowl', 'calories': 660},\n",
       " {'foodName': 'Carnitas Bowl', 'calories': 660},\n",
       " {'foodName': 'Barbacoa Burrito Bowl', 'calories': 620},\n",
       " {'foodName': 'Barbacoa Bowl', 'calories': 620},\n",
       " {'foodName': 'Chorizo Burrito Bowl', 'calories': 750},\n",
       " {'foodName': 'Chorizo Bowl', 'calories': 750},\n",
       " {'foodName': 'Sofritas Burrito Bowl', 'calories': 600},\n",
       " {'foodName': 'Sofritas Bowl', 'calories': 600},\n",
       " {'foodName': 'Chicken Corn Tortilla Taco', 'calories': 650},\n",
       " {'foodName': 'Chicken Flour Tortilla Taco', 'calories': 700},\n",
       " {'foodName': 'Steak Corn Tortilla Taco', 'calories': 620},\n",
       " {'foodName': 'Steak Flour Tortilla Taco', 'calories': 670},\n",
       " {'foodName': 'Carnitas Corn Tortilla Taco', 'calories': 680},\n",
       " {'foodName': 'Carnitas Flour Tortilla Taco', 'calories': 730},\n",
       " {'foodName': 'Barbacoa Corn Tortilla Taco', 'calories': 640},\n",
       " {'foodName': 'Barbacoa Flour Tortilla Taco', 'calories': 690},\n",
       " {'foodName': 'Chorizo Corn Tortilla Taco', 'calories': 770},\n",
       " {'foodName': 'Chorizo Flour Tortilla Taco', 'calories': 820},\n",
       " {'foodName': 'Sofritas Corn Tortilla Taco', 'calories': 620},\n",
       " {'foodName': 'Sofritas Flour Tortilla Taco', 'calories': 670},\n",
       " {'foodName': 'Chicken Quesadilla', 'calories': 610},\n",
       " {'foodName': 'Steak Quesadilla', 'calories': 550},\n",
       " {'foodName': 'Carnitas Quesadilla', 'calories': 640},\n",
       " {'foodName': 'Cheese Quesadilla', 'calories': 430},\n",
       " {'foodName': 'Kids Chicken Taco', 'calories': 205},\n",
       " {'foodName': 'Kids Steak Taco', 'calories': 200}]"
      ]
     },
     "execution_count": 26,
     "metadata": {},
     "output_type": "execute_result"
    }
   ],
   "source": [
    "with pymongo.MongoClient(host=HOST, port=PORT) as client:\n",
    "    db = client[\"mydb\"]\n",
    "    collection = db[\"food\"]\n",
    "    data = list(\n",
    "        collection.find(\n",
    "            {},\n",
    "            {\n",
    "                \"foodName\": True,\n",
    "                \"calories\": True,\n",
    "                \"_id\": False,\n",
    "            }\n",
    "        )\n",
    "    )\n",
    "    \n",
    "data"
   ]
  },
  {
   "cell_type": "code",
   "execution_count": 27,
   "id": "3a3753de",
   "metadata": {},
   "outputs": [],
   "source": [
    "with pymongo.MongoClient(host=HOST, port=PORT) as client:\n",
    "    db = client[\"mydb\"]\n",
    "    collection = db[\"food\"]\n",
    "    data = collection.update_one(\n",
    "        {\n",
    "            \"foodName\": \"Chicken Corn Tortilla Taco\",\n",
    "        },\n",
    "        {\n",
    "            \"$set\": { \n",
    "                \"calories\": 655, \n",
    "            } \n",
    "        }\n",
    "    )"
   ]
  },
  {
   "cell_type": "code",
   "execution_count": 32,
   "id": "0789e47d",
   "metadata": {},
   "outputs": [
    {
     "data": {
      "text/plain": [
       "[{'_id': ObjectId('620a738e9562d666792564a9'),\n",
       "  'foodName': 'Chicken Corn Tortilla Taco',\n",
       "  'foodType': 'Taco',\n",
       "  'protein': 'chicken',\n",
       "  'calories': 655}]"
      ]
     },
     "execution_count": 32,
     "metadata": {},
     "output_type": "execute_result"
    }
   ],
   "source": [
    "with pymongo.MongoClient(host=HOST, port=PORT) as client:\n",
    "    db = client[\"mydb\"]\n",
    "    collection = db[\"food\"]\n",
    "    data = list(\n",
    "        collection.find(\n",
    "            {\n",
    "                \"foodName\": \"Chicken Corn Tortilla Taco\",\n",
    "            },\n",
    "        )\n",
    "    )\n",
    "    \n",
    "data"
   ]
  },
  {
   "cell_type": "code",
   "execution_count": 35,
   "id": "f36ab46b",
   "metadata": {
    "scrolled": false
   },
   "outputs": [
    {
     "data": {
      "text/plain": [
       "[{'foodType': 'Taco', 'calories': 820},\n",
       " {'foodType': 'Taco', 'calories': 770},\n",
       " {'foodType': 'Taco', 'calories': 730},\n",
       " {'foodType': 'Taco', 'calories': 700},\n",
       " {'foodType': 'Taco', 'calories': 690},\n",
       " {'foodType': 'Taco', 'calories': 680},\n",
       " {'foodType': 'Taco', 'calories': 670},\n",
       " {'foodType': 'Taco', 'calories': 670},\n",
       " {'foodType': 'Taco', 'calories': 655},\n",
       " {'foodType': 'Taco', 'calories': 640},\n",
       " {'foodType': 'Taco', 'calories': 620},\n",
       " {'foodType': 'Taco', 'calories': 620},\n",
       " {'calories': 640, 'foodType': 'Quesadilla'},\n",
       " {'calories': 610, 'foodType': 'Quesadilla'},\n",
       " {'calories': 550, 'foodType': 'Quesadilla'},\n",
       " {'calories': 430, 'foodType': 'Quesadilla'},\n",
       " {'foodType': 'Burrito Bowl', 'calories': 750},\n",
       " {'foodType': 'Burrito Bowl', 'calories': 660},\n",
       " {'foodType': 'Burrito Bowl', 'calories': 630},\n",
       " {'foodType': 'Burrito Bowl', 'calories': 620},\n",
       " {'foodType': 'Burrito Bowl', 'calories': 600},\n",
       " {'foodType': 'Burrito Bowl', 'calories': 600},\n",
       " {'foodType': 'Burrito', 'calories': 1095},\n",
       " {'foodType': 'Burrito', 'calories': 1005},\n",
       " {'foodType': 'Burrito', 'calories': 975},\n",
       " {'foodType': 'Burrito', 'calories': 965},\n",
       " {'foodType': 'Burrito', 'calories': 945},\n",
       " {'foodType': 'Burrito', 'calories': 945},\n",
       " {'calories': 750},\n",
       " {'calories': 660},\n",
       " {'calories': 630},\n",
       " {'calories': 620},\n",
       " {'calories': 600},\n",
       " {'calories': 600},\n",
       " {'calories': 205},\n",
       " {'calories': 200}]"
      ]
     },
     "execution_count": 35,
     "metadata": {},
     "output_type": "execute_result"
    }
   ],
   "source": [
    "with pymongo.MongoClient(host=HOST, port=PORT) as client:\n",
    "    db = client[\"mydb\"]\n",
    "    collection = db[\"food\"]\n",
    "    data = list(\n",
    "        collection.find(\n",
    "            {}, \n",
    "            {\n",
    "                \"foodType\": True,\n",
    "                \"calories\": True,\n",
    "                \"_id\": False,\n",
    "            },\n",
    "        ).sort([[\"foodType\", -1], [\"calories\", -1]])\n",
    "    )\n",
    "    \n",
    "data"
   ]
  },
  {
   "cell_type": "code",
   "execution_count": 39,
   "id": "2e4539dc",
   "metadata": {},
   "outputs": [
    {
     "data": {
      "text/plain": [
       "[{'foodType': 'Burrito', 'calories': 1095},\n",
       " {'foodType': 'Burrito', 'calories': 1005},\n",
       " {'foodType': 'Burrito', 'calories': 975},\n",
       " {'foodType': 'Burrito', 'calories': 965},\n",
       " {'foodType': 'Burrito', 'calories': 945}]"
      ]
     },
     "execution_count": 39,
     "metadata": {},
     "output_type": "execute_result"
    }
   ],
   "source": [
    "with pymongo.MongoClient(host=HOST, port=PORT) as client:\n",
    "    db = client[\"mydb\"]\n",
    "    collection = db[\"food\"]\n",
    "    data = list(\n",
    "        collection.find(\n",
    "            {}, \n",
    "            {\n",
    "                \"foodType\": True,\n",
    "                \"calories\": True,\n",
    "                \"_id\": False,\n",
    "            },\n",
    "        ).sort(\"calories\", -1).limit(5)\n",
    "    )\n",
    "    \n",
    "data"
   ]
  }
 ],
 "metadata": {
  "kernelspec": {
   "display_name": "Python 3 (ipykernel)",
   "language": "python",
   "name": "python3"
  },
  "language_info": {
   "codemirror_mode": {
    "name": "ipython",
    "version": 3
   },
   "file_extension": ".py",
   "mimetype": "text/x-python",
   "name": "python",
   "nbconvert_exporter": "python",
   "pygments_lexer": "ipython3",
   "version": "3.8.9"
  }
 },
 "nbformat": 4,
 "nbformat_minor": 5
}
